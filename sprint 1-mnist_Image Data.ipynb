{
 "cells": [
  {
   "cell_type": "code",
   "execution_count": 2,
   "id": "550dd646",
   "metadata": {},
   "outputs": [],
   "source": [
    "import warnings\n",
    "warnings.filterwarnings('ignore')\n",
    "\n",
    "# import the modules\n",
    "import os\n",
    "from PIL import Image\n",
    "import numpy as np\n",
    "import pandas as pd\n",
    "import matplotlib.pyplot as plt\n",
    "import seaborn as sns\n",
    "from matplotlib import image\n"
   ]
  },
  {
   "cell_type": "code",
   "execution_count": 4,
   "id": "f58b8519",
   "metadata": {},
   "outputs": [],
   "source": [
    "## First frame (0)\n",
    "\n",
    "Frame_image_0 =[]\n",
    "for i in range(0,4132):\n",
    "    img = Image.open(r'C:/Users/sachi/Desktop/mnist_data/0/img_{}.png'.format(i))\n",
    "    img_grey = img.convert('L')\n",
    "    img_arr_0 = np.asarray(img_grey)\n",
    "    Frame_image_0.append(img_arr_0.ravel())\n",
    "\n",
    "img_zero = pd.DataFrame(Frame_image_0)\n",
    "img_zero[\"index\"] = 0"
   ]
  },
  {
   "cell_type": "code",
   "execution_count": 5,
   "id": "7fe0a58a",
   "metadata": {},
   "outputs": [],
   "source": [
    "## First frame (1)\n",
    "\n",
    "Frame_image_1 =[]\n",
    "for i in range(0,4684):\n",
    "    img = Image.open(r'C:/Users/sachi/Desktop/mnist_data/1/img_{}.png'.format(i))\n",
    "    img_grey = img.convert('L')\n",
    "    img_arr_1 = np.asarray(img_grey)\n",
    "    Frame_image_1.append(img_arr_1.ravel())\n",
    "    \n",
    "img_one = pd.DataFrame(Frame_image_1)\n",
    "img_one[\"index\"] = 1"
   ]
  },
  {
   "cell_type": "code",
   "execution_count": 6,
   "id": "f1944805",
   "metadata": {},
   "outputs": [],
   "source": [
    "## Second frame (2)\n",
    "\n",
    "Frame_image_2 =[]\n",
    "for i in range(0,4177):\n",
    "    img = Image.open(r'C:/Users/sachi/Desktop/mnist_data/2/img_{}.png'.format(i))\n",
    "    img_grey = img.convert('L')\n",
    "    img_arr_2 = np.asarray(img_grey)\n",
    "    Frame_image_2.append(img_arr_2.ravel())\n",
    "    \n",
    "img_two = pd.DataFrame(Frame_image_2)\n",
    "img_two[\"index\"] = 2\n"
   ]
  },
  {
   "cell_type": "code",
   "execution_count": 7,
   "id": "d2464b9e",
   "metadata": {},
   "outputs": [],
   "source": [
    "## Third frame (3)\n",
    "\n",
    "Frame_image_3 =[]\n",
    "for i in range(0,4351):\n",
    "    img = Image.open(r'C:/Users/sachi/Desktop/mnist_data/3/img_{}.png'.format(i))\n",
    "    img_grey = img.convert('L')\n",
    "    img_arr_3 = np.asarray(img_grey)\n",
    "    Frame_image_3.append(img_arr_3.ravel())\n",
    "    \n",
    "img_three = pd.DataFrame(Frame_image_3)\n",
    "img_three[\"index\"] = 3\n"
   ]
  },
  {
   "cell_type": "code",
   "execution_count": 8,
   "id": "638bd35e",
   "metadata": {},
   "outputs": [],
   "source": [
    "## Fourth frame (4)\n",
    "\n",
    "Frame_image_4 =[]\n",
    "for i in range(0,4072):\n",
    "    img = Image.open(r'C:/Users/sachi/Desktop/mnist_data/4/img_{}.png'.format(i))\n",
    "    img_grey = img.convert('L')\n",
    "    img_arr_4 = np.asarray(img_grey)\n",
    "    Frame_image_4.append(img_arr_4.ravel())\n",
    "    \n",
    "img_four = pd.DataFrame(Frame_image_4)\n",
    "img_four[\"index\"] = 4"
   ]
  },
  {
   "cell_type": "code",
   "execution_count": 9,
   "id": "56a9026a",
   "metadata": {},
   "outputs": [],
   "source": [
    "## Fifth frame (5)\n",
    "\n",
    "Frame_image_5 =[]\n",
    "for i in range(0,3795):\n",
    "    img = Image.open(r'C:/Users/sachi/Desktop/mnist_data/5/img_{}.png'.format(i))\n",
    "    img_grey = img.convert('L')\n",
    "    img_arr_5 = np.asarray(img_grey)\n",
    "    Frame_image_5.append(img_arr_5.ravel())\n",
    "    \n",
    "img_five = pd.DataFrame(Frame_image_5)\n",
    "img_five[\"index\"] = 5"
   ]
  },
  {
   "cell_type": "code",
   "execution_count": 10,
   "id": "dd013f51",
   "metadata": {},
   "outputs": [],
   "source": [
    "## sixth frame (6)\n",
    "\n",
    "Frame_image_6 =[]\n",
    "for i in range(0,4137):\n",
    "    img = Image.open(r'C:/Users/sachi/Desktop/mnist_data/6/img_{}.png'.format(i))\n",
    "    img_grey = img.convert('L')\n",
    "    img_arr_6 = np.asarray(img_grey)\n",
    "    Frame_image_6.append(img_arr_6.ravel())\n",
    "    \n",
    "img_six = pd.DataFrame(Frame_image_6)\n",
    "img_six[\"index\"] = 6"
   ]
  },
  {
   "cell_type": "code",
   "execution_count": 11,
   "id": "ed2439e3",
   "metadata": {},
   "outputs": [],
   "source": [
    "## seven frame (7)\n",
    "\n",
    "Frame_image_7 =[]\n",
    "for i in range(0,4401):\n",
    "    img = Image.open(r'C:/Users/sachi/Desktop/mnist_data/7/img_{}.png'.format(i))\n",
    "    img_grey = img.convert('L')\n",
    "    img_arr_7 = np.asarray(img_grey)\n",
    "    Frame_image_7.append(img_arr_7.ravel())\n",
    "    \n",
    "img_seven = pd.DataFrame(Frame_image_7)\n",
    "img_seven[\"index\"] = 7"
   ]
  },
  {
   "cell_type": "code",
   "execution_count": 12,
   "id": "180fea9c",
   "metadata": {},
   "outputs": [],
   "source": [
    "## eight frame (8)\n",
    "\n",
    "Frame_image_8 =[]\n",
    "for i in range(0,4063):\n",
    "    img = Image.open(r'C:/Users/sachi/Desktop/mnist_data/8/img_{}.png'.format(i))\n",
    "    img_grey = img.convert('L')\n",
    "    img_arr_8 = np.asarray(img_grey)\n",
    "    Frame_image_8.append(img_arr_8.ravel())\n",
    "    \n",
    "img_eight = pd.DataFrame(Frame_image_8)\n",
    "img_eight[\"index\"] = 8"
   ]
  },
  {
   "cell_type": "code",
   "execution_count": 13,
   "id": "c5bcb648",
   "metadata": {},
   "outputs": [],
   "source": [
    "## nine frame (9)\n",
    "\n",
    "Frame_image_9 =[]\n",
    "for i in range(0,4188):\n",
    "    img = Image.open(r'C:/Users/sachi/Desktop/mnist_data/9/img_{}.png'.format(i))\n",
    "    img_grey = img.convert('L')\n",
    "    img_arr_9 = np.asarray(img_grey)\n",
    "    Frame_image_9.append(img_arr_9.ravel())\n",
    "\n",
    "img_nine = pd.DataFrame(Frame_image_9)\n",
    "img_nine[\"index\"] = 9"
   ]
  },
  {
   "cell_type": "code",
   "execution_count": 14,
   "id": "f08399e4",
   "metadata": {},
   "outputs": [],
   "source": [
    "horizontal_concat = pd.concat([img_zero, img_one, img_two, img_three, img_four, img_five, img_six, img_seven, img_eight, img_nine], axis=0)"
   ]
  },
  {
   "cell_type": "code",
   "execution_count": 15,
   "id": "6a5cd61d",
   "metadata": {},
   "outputs": [],
   "source": [
    "horizontal_concat.to_csv(\"mnist.csv\", index = False)"
   ]
  }
 ],
 "metadata": {
  "kernelspec": {
   "display_name": "Python 3",
   "language": "python",
   "name": "python3"
  },
  "language_info": {
   "codemirror_mode": {
    "name": "ipython",
    "version": 3
   },
   "file_extension": ".py",
   "mimetype": "text/x-python",
   "name": "python",
   "nbconvert_exporter": "python",
   "pygments_lexer": "ipython3",
   "version": "3.8.8"
  }
 },
 "nbformat": 4,
 "nbformat_minor": 5
}
